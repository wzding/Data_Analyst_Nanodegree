{
 "cells": [
  {
   "cell_type": "raw",
   "metadata": {},
   "source": [
    "<script>\n",
    "  jQuery(document).ready(function($) {  \n",
    "  \n",
    "  $(window).on('load', function(){\n",
    "    $('#preloader').fadeOut('slow',function(){$(this).remove();});\n",
    "  });\n",
    "  \n",
    "  });\n",
    "</script>\n",
    "\n",
    "<style type=\"text/css\">\n",
    "  div#preloader { position: fixed; \n",
    "      left: 0; \n",
    "      top: 0; \n",
    "      z-index: 999; \n",
    "      width: 100%; \n",
    "      height: 100%; \n",
    "      overflow: visible; \n",
    "      background: #fff url('http://preloaders.net/preloaders/720/Moving%20line.gif') no-repeat center center; \n",
    "  }\n",
    "\n",
    "</style>\n",
    "\n",
    "<div id=\"preloader\">\n",
    "\n",
    "</div>"
   ]
  },
  {
   "cell_type": "raw",
   "metadata": {},
   "source": [
    "<script>\n",
    "  function code_toggle() {\n",
    "    if (code_shown){\n",
    "      $('div.input').hide('500');\n",
    "      $('#toggleButton').val('Show Code')\n",
    "    } else {\n",
    "      $('div.input').show('500');\n",
    "      $('#toggleButton').val('Hide Code')\n",
    "    }\n",
    "    code_shown = !code_shown\n",
    "  } \n",
    "  \n",
    "  $( document ).ready(function(){\n",
    "    code_shown=false; \n",
    "    $('div.input').hide()\n",
    "  });\n",
    "</script>\n",
    "<form action=\"javascript:code_toggle()\"><input type=\"submit\" id=\"toggleButton\" value=\"Show Code\"></form>"
   ]
  },
  {
   "cell_type": "markdown",
   "metadata": {},
   "source": [
    "# Investigate a Dataset\n",
    "### A Case Study of Titanic Dataset"
   ]
  },
  {
   "cell_type": "markdown",
   "metadata": {},
   "source": [
    "For this project, I chose to analyse the [Titanic Dataset](https://www.kaggle.com/c/titanic/data). The questions that we are going to explore are:\n",
    "* What is the survival rate of this disaster?\n",
    "* Are females more likely to survive males?\n",
    "* Is there a certain age group more likely to survive other age groups?\n",
    "* Are childern and mothers more likely to be survived than others?\n",
    "* Did people pay higher fare tend to survive?\n",
    "* Are there difference of survival rate between differnt ticket classes?\n",
    "* who will more likely to survive, families or sigletons? <br>\n",
    "<br>\n",
    "After the exploratary data analysis with the above questions, we will conclude with summary of limitations and findings learning from this dataset ."
   ]
  },
  {
   "cell_type": "code",
   "execution_count": 27,
   "metadata": {
    "collapsed": true
   },
   "outputs": [],
   "source": [
    "import pandas as pd\n",
    "import numpy as np\n",
    "import matplotlib.pyplot as plt\n",
    "from statsmodels.graphics.mosaicplot import mosaic\n",
    "import warnings\n",
    "warnings.filterwarnings('ignore')\n",
    "%matplotlib inline"
   ]
  },
  {
   "cell_type": "code",
   "execution_count": 28,
   "metadata": {},
   "outputs": [
    {
     "name": "stdout",
     "output_type": "stream",
     "text": [
      "Number of data points:  891\n"
     ]
    }
   ],
   "source": [
    "data = pd.read_csv('titanic-data.csv')\n",
    "print(\"Number of data points: \",len(data))"
   ]
  },
  {
   "cell_type": "code",
   "execution_count": 29,
   "metadata": {},
   "outputs": [
    {
     "name": "stdout",
     "output_type": "stream",
     "text": [
      "Data fields are:  Index(['PassengerId', 'Survived', 'Pclass', 'Name', 'Sex', 'Age', 'SibSp',\n",
      "       'Parch', 'Ticket', 'Fare', 'Cabin', 'Embarked'],\n",
      "      dtype='object')\n"
     ]
    }
   ],
   "source": [
    "print(\"Data fields are: \", data.columns) "
   ]
  },
  {
   "cell_type": "markdown",
   "metadata": {},
   "source": [
    "We have a total of 891 data points and 12 columns."
   ]
  },
  {
   "cell_type": "code",
   "execution_count": 30,
   "metadata": {},
   "outputs": [
    {
     "name": "stdout",
     "output_type": "stream",
     "text": [
      "First rows of data:  PassengerId                          1\n",
      "Survived                             0\n",
      "Pclass                               3\n",
      "Name           Braund, Mr. Owen Harris\n",
      "Sex                               male\n",
      "Age                                 22\n",
      "SibSp                                1\n",
      "Parch                                0\n",
      "Ticket                       A/5 21171\n",
      "Fare                              7.25\n",
      "Cabin                              NaN\n",
      "Embarked                             S\n",
      "Name: 0, dtype: object\n"
     ]
    }
   ],
   "source": [
    "print(\"First rows of data: \", data.iloc[0])"
   ]
  },
  {
   "cell_type": "markdown",
   "metadata": {},
   "source": [
    "### 1. What is the survival rate?"
   ]
  },
  {
   "cell_type": "markdown",
   "metadata": {},
   "source": [
    " To find the survival rate, we discretize the whole dataset into two categories, one is about people who survived and the other is people who did not. Only less than 40% passengers have survived. "
   ]
  },
  {
   "cell_type": "code",
   "execution_count": 31,
   "metadata": {},
   "outputs": [
    {
     "name": "stdout",
     "output_type": "stream",
     "text": [
      "survival rate is: 0.3838383838383838\n"
     ]
    }
   ],
   "source": [
    "sur = data[data.Survived == 1]\n",
    "nsur = data[data.Survived == 0]\n",
    "print(\"survival rate is:\", len(sur) / float(len(data)))"
   ]
  },
  {
   "cell_type": "markdown",
   "metadata": {},
   "source": [
    "Let's see what are the correlations between the column factors and whether people survived. "
   ]
  },
  {
   "cell_type": "code",
   "execution_count": 32,
   "metadata": {},
   "outputs": [
    {
     "data": {
      "text/plain": [
       "PassengerId   -0.005007\n",
       "Survived       1.000000\n",
       "Pclass        -0.338481\n",
       "Age           -0.077221\n",
       "SibSp         -0.035322\n",
       "Parch          0.081629\n",
       "Fare           0.257307\n",
       "Name: Survived, dtype: float64"
      ]
     },
     "execution_count": 32,
     "metadata": {},
     "output_type": "execute_result"
    }
   ],
   "source": [
    "data.corr()[\"Survived\"]"
   ]
  },
  {
   "cell_type": "markdown",
   "metadata": {},
   "source": [
    "Since the column 'Survived' is a binary variable, this correlation might not be able to reflect the true relationships. But from this correlation matrix, Pclass and Fare would be two important factors to investigate, which we will discuss later."
   ]
  },
  {
   "cell_type": "markdown",
   "metadata": {},
   "source": [
    "### 2. Are females more likely to survive than males?"
   ]
  },
  {
   "cell_type": "markdown",
   "metadata": {},
   "source": [
    "Firstly, we create new dataframes that catogorize people based on gender. Then we look at the statistics of different groups."
   ]
  },
  {
   "cell_type": "code",
   "execution_count": 33,
   "metadata": {
    "collapsed": true
   },
   "outputs": [],
   "source": [
    "female = data[data.Sex == 'female']  # number of females\n",
    "male = data[data.Sex == 'male']  # number of females\n",
    "fm_sur =  female[female.Survived == 1]  # survived females\n",
    "fm_not_sur = female[female.Survived == 0]  # non-survived males\n",
    "m_sur =  male[male.Survived == 1]  # survived males\n",
    "m_not_sur = male[male.Survived == 0]  # non-survived males"
   ]
  },
  {
   "cell_type": "code",
   "execution_count": 34,
   "metadata": {},
   "outputs": [
    {
     "data": {
      "text/html": [
       "<div>\n",
       "<style>\n",
       "    .dataframe thead tr:only-child th {\n",
       "        text-align: right;\n",
       "    }\n",
       "\n",
       "    .dataframe thead th {\n",
       "        text-align: left;\n",
       "    }\n",
       "\n",
       "    .dataframe tbody tr th {\n",
       "        vertical-align: top;\n",
       "    }\n",
       "</style>\n",
       "<table border=\"1\" class=\"dataframe\">\n",
       "  <thead>\n",
       "    <tr style=\"text-align: right;\">\n",
       "      <th></th>\n",
       "      <th>Not Survived</th>\n",
       "      <th>Survive rate</th>\n",
       "      <th>Survived</th>\n",
       "      <th>Total</th>\n",
       "    </tr>\n",
       "  </thead>\n",
       "  <tbody>\n",
       "    <tr>\n",
       "      <th>female</th>\n",
       "      <td>81</td>\n",
       "      <td>0.742038</td>\n",
       "      <td>233</td>\n",
       "      <td>314</td>\n",
       "    </tr>\n",
       "    <tr>\n",
       "      <th>male</th>\n",
       "      <td>468</td>\n",
       "      <td>0.188908</td>\n",
       "      <td>109</td>\n",
       "      <td>577</td>\n",
       "    </tr>\n",
       "  </tbody>\n",
       "</table>\n",
       "</div>"
      ],
      "text/plain": [
       "        Not Survived  Survive rate  Survived  Total\n",
       "female            81      0.742038       233    314\n",
       "male             468      0.188908       109    577"
      ]
     },
     "execution_count": 34,
     "metadata": {},
     "output_type": "execute_result"
    }
   ],
   "source": [
    "d = {'Total':pd.Series([len(female),len(male)], index = ['female', 'male'] ),\\\n",
    "     'Survived' : (len(fm_sur), len(m_sur)),\\\n",
    "     'Not Survived': (len(fm_not_sur), len(m_not_sur)),\\\n",
    "     'Survive rate': (len(fm_sur)/float(len(female)) , len(m_sur)/float(len(male)))}\n",
    "pd.DataFrame(d)"
   ]
  },
  {
   "cell_type": "markdown",
   "metadata": {},
   "source": [
    "From the table above, we can conclude that females are more likely to be survived because the survive rate is almost four times of that of males. Note that the total number of females are much less than that of the males, but the number of survivals are more than double that of males."
   ]
  },
  {
   "cell_type": "markdown",
   "metadata": {},
   "source": [
    "### 3. Is there a certain age group more likely to survive other age groups?"
   ]
  },
  {
   "cell_type": "markdown",
   "metadata": {
    "collapsed": true
   },
   "source": [
    "There are 177 missing values in variable 'Age'. In this case, we simply filtered out the missing values for analysis as we could not infer from the other information to find what the missing value would be. The oldest people onboard is 80 years old."
   ]
  },
  {
   "cell_type": "code",
   "execution_count": 35,
   "metadata": {},
   "outputs": [
    {
     "name": "stdout",
     "output_type": "stream",
     "text": [
      "Number of data points with Age information:  177\n"
     ]
    }
   ],
   "source": [
    "print(\"Number of data points with Age information: \", len(data) - len(data.Age.dropna()))"
   ]
  },
  {
   "cell_type": "code",
   "execution_count": 36,
   "metadata": {},
   "outputs": [
    {
     "name": "stdout",
     "output_type": "stream",
     "text": [
      "Maximum Age:  80.0\n"
     ]
    }
   ],
   "source": [
    "print(\"Maximum Age: \", max(data.Age.dropna()))"
   ]
  },
  {
   "cell_type": "markdown",
   "metadata": {},
   "source": [
    "We saw already that gender plays an important role to be a survivor, and females have higher survival rate than males. Let's group the survivors by sex and see how suverviors' age distribution compares to that of victims."
   ]
  },
  {
   "cell_type": "code",
   "execution_count": 37,
   "metadata": {},
   "outputs": [
    {
     "data": {
      "image/png": "[encoded data removed]",
      "text/plain": [
       "<matplotlib.figure.Figure at 0x112ab7ef0>"
      ]
     },
     "metadata": {},
     "output_type": "display_data"
    }
   ],
   "source": [
    "bins = np.linspace(0, 80, 40)\n",
    "fig = plt.figure(figsize=(15, 5)) \n",
    "\n",
    "plt.subplot(1, 2, 1)\n",
    "plt.hist(fm_sur.Age.dropna(), bins, alpha=0.5, label='survived')\n",
    "plt.hist(fm_not_sur.Age.dropna(), bins, alpha=0.5, label='not survived')\n",
    "plt.xlabel('Age')\n",
    "plt.ylabel('Count')\n",
    "plt.title('female')\n",
    "plt.legend(loc='upper right')\n",
    "\n",
    "plt.subplot(1, 2, 2)\n",
    "plt.hist(m_sur.Age.dropna(), bins, alpha=0.5, label='survived')\n",
    "plt.hist(m_not_sur.Age.dropna(), bins, alpha=0.5, label='not survived')\n",
    "plt.xlabel('Age')\n",
    "plt.ylabel('Count')\n",
    "plt.title('male')\n",
    "plt.legend(loc='upper right')\n",
    "plt.show()"
   ]
  },
  {
   "cell_type": "markdown",
   "metadata": {},
   "source": [
    "Among both female and male victims we see spikes in age at mid twenties, with small bumps at at early thirties and mid thirties for females. These passengers must be the most brave ones who are willing to sacrifice themselves to save others. Female victims have almost uniform distitrbution among certain age groups, such as ten, early twenties, mid twenties, and early thirties, etc. Male victims' age seems to fall along a bell-shaped distribution peaking at early thirties, except that lots of male kids died in this disaster. "
   ]
  },
  {
   "cell_type": "markdown",
   "metadata": {},
   "source": [
    "### 4. Are childern and mothers more likely to be survived than others?"
   ]
  },
  {
   "cell_type": "markdown",
   "metadata": {},
   "source": [
    "Based on the information available, we define a child as a person under 18 years old and a mother is a person who is 1) a female, 2) over 18, 3) does not have the title ‘Miss’ and 4) has more than 0 children onboard."
   ]
  },
  {
   "cell_type": "code",
   "execution_count": 38,
   "metadata": {
    "collapsed": true
   },
   "outputs": [],
   "source": [
    "child = data.loc[(data.Parch > 0) & (data.Age < 18)]\n",
    "data['Title'] = data.Name.apply(lambda x: x[x.find(', ') +2 : x.find('.')])\n",
    "mother = data.loc[(data.Sex == 'female') & (data.Parch > 0) & (data.Age > 18) & (data.Title != 'Miss')]"
   ]
  },
  {
   "cell_type": "code",
   "execution_count": 39,
   "metadata": {},
   "outputs": [
    {
     "data": {
      "text/html": [
       "<div>\n",
       "<style>\n",
       "    .dataframe thead tr:only-child th {\n",
       "        text-align: right;\n",
       "    }\n",
       "\n",
       "    .dataframe thead th {\n",
       "        text-align: left;\n",
       "    }\n",
       "\n",
       "    .dataframe tbody tr th {\n",
       "        vertical-align: top;\n",
       "    }\n",
       "</style>\n",
       "<table border=\"1\" class=\"dataframe\">\n",
       "  <thead>\n",
       "    <tr style=\"text-align: right;\">\n",
       "      <th></th>\n",
       "      <th>Not Survived</th>\n",
       "      <th>Survival rate</th>\n",
       "      <th>Survived</th>\n",
       "      <th>Total</th>\n",
       "    </tr>\n",
       "  </thead>\n",
       "  <tbody>\n",
       "    <tr>\n",
       "      <th>child</th>\n",
       "      <td>36</td>\n",
       "      <td>0.555556</td>\n",
       "      <td>45</td>\n",
       "      <td>81</td>\n",
       "    </tr>\n",
       "    <tr>\n",
       "      <th>mother</th>\n",
       "      <td>15</td>\n",
       "      <td>0.711538</td>\n",
       "      <td>37</td>\n",
       "      <td>52</td>\n",
       "    </tr>\n",
       "  </tbody>\n",
       "</table>\n",
       "</div>"
      ],
      "text/plain": [
       "        Not Survived  Survival rate  Survived  Total\n",
       "child             36       0.555556        45     81\n",
       "mother            15       0.711538        37     52"
      ]
     },
     "execution_count": 39,
     "metadata": {},
     "output_type": "execute_result"
    }
   ],
   "source": [
    "d = {'Total':pd.Series([len(child),len(mother)], index = ['child', 'mother'] ),\\\n",
    "     'Survived' : (len(child[child.Survived == 1]), len(mother[mother.Survived == 1])),\\\n",
    "     'Not Survived': (len(child[child.Survived == 0]), len(mother[mother.Survived == 0])),\\\n",
    "     'Survival rate': (len(child[child.Survived == 1])/float(len(child)) , \\\n",
    "                      len(mother[mother.Survived == 1])/float(len(mother)))}\n",
    "pd.DataFrame(d)"
   ]
  },
  {
   "cell_type": "markdown",
   "metadata": {
    "collapsed": true
   },
   "source": [
    "This table above makes it pretty clear that monthers have much higher survivor rate than others. Being a child does not hurt, as more than half of kids have survived."
   ]
  },
  {
   "cell_type": "markdown",
   "metadata": {},
   "source": [
    "### 5. Did people pay higher fare tend to survive?"
   ]
  },
  {
   "cell_type": "markdown",
   "metadata": {},
   "source": [
    "Let's examine whether there is a difference between the fare survivors paied and that victims paied."
   ]
  },
  {
   "cell_type": "code",
   "execution_count": 40,
   "metadata": {},
   "outputs": [
    {
     "data": {
      "image/png": "[encoded data removed]",
      "text/plain": [
       "<matplotlib.figure.Figure at 0x112ba1b38>"
      ]
     },
     "metadata": {},
     "output_type": "display_data"
    }
   ],
   "source": [
    "from scipy.stats import gaussian_kde\n",
    "density1 = gaussian_kde(sur.Fare)\n",
    "density2 = gaussian_kde(nsur.Fare)\n",
    "\n",
    "fig = plt.figure(figsize=(8, 5)) \n",
    "xs = np.linspace(0,200,200)\n",
    "plt.plot(xs,density1(xs),label = 'survived')\n",
    "plt.plot(xs,density2(xs),label = 'not survived')\n",
    "plt.xlabel('Fare')\n",
    "plt.ylabel('Density')\n",
    "plt.title('Fare')\n",
    "plt.legend(loc='upper right')\n",
    "plt.show()"
   ]
  },
  {
   "cell_type": "markdown",
   "metadata": {},
   "source": [
    "The above graph shows that most passengers have paid 15 - 20 £ for tickets. The most common survivors have paid 20 £ while the most common victims's fare is a little lower, which is around 15 £. Interestingly, there are higher chances for passenger to survive if they paid more than 30 £. We already saw the patterns of age among survivors and victims, we are interested in whether there are patterns to look at both fare and age. "
   ]
  },
  {
   "cell_type": "code",
   "execution_count": 41,
   "metadata": {},
   "outputs": [
    {
     "data": {
      "image/png": "[encoded data removed]",
      "text/plain": [
       "<matplotlib.figure.Figure at 0x11743c940>"
      ]
     },
     "metadata": {},
     "output_type": "display_data"
    }
   ],
   "source": [
    "fig = plt.figure(figsize=(15, 5)) \n",
    "\n",
    "plt.subplot(1, 2, 1)\n",
    "plt.scatter(sur.Age , sur.Fare ,s=20, c= 'blue',marker='o', alpha = 0.3,label = 'Survived');\n",
    "# plt.scatter(nsur.Age , nsur.Fare ,s=10, c= 'blue',marker='^', alpha = 0.3,label = 'Unsurvived');\n",
    "plt.xlabel(\"Age\")\n",
    "plt.ylabel('Fare')\n",
    "plt.title('Survived')\n",
    "plt.yticks(range(0,650,100))\n",
    "\n",
    "plt.subplot(1, 2, 2)\n",
    "plt.scatter(nsur.Age , nsur.Fare ,s=20, c= 'red',marker='o', alpha = 0.3,label = 'Unsurvived');\n",
    "plt.xlabel(\"Age\")\n",
    "plt.ylabel('Fare')\n",
    "plt.title('Unsurvived')\n",
    "plt.yticks(range(0,650,100))\n",
    "plt.show()"
   ]
  },
  {
   "cell_type": "markdown",
   "metadata": {},
   "source": [
    "Both survivors and victims cluster around age group twenties to thirties. It is also clear that kid under 10 years old are more likely to be survived. In addition, the fares that survivors paid are more spread while fares that victims paid are more aggregated at lower prices, this confirmed our observation before that people who paied more are more likely to be survived. In fact, the highest fare that non survivors paid is a around 270 £, while passagers who paid more than that are all survived. "
   ]
  },
  {
   "cell_type": "markdown",
   "metadata": {},
   "source": [
    "### 6. Are there difference of survival rate between different ticket classes?"
   ]
  },
  {
   "cell_type": "markdown",
   "metadata": {},
   "source": [
    "It is known that Titanic carried some of the wealthiest people in the world, and we alreay knew that people who paid more are more likely to be survived from the above analysis. It is thus interesting to know the difference of survival rate between difference ticket classes."
   ]
  },
  {
   "cell_type": "code",
   "execution_count": 42,
   "metadata": {
    "collapsed": true
   },
   "outputs": [],
   "source": [
    "pclass = pd.concat([pd.DataFrame(data.Pclass.value_counts()),\\\n",
    "                    pd.DataFrame(sur.Pclass.value_counts()), \\\n",
    "                    pd.DataFrame(nsur.Pclass.value_counts())],axis = 1).reset_index()\n",
    "pclass.columns = ['class','total','survived','non_survived']"
   ]
  },
  {
   "cell_type": "code",
   "execution_count": 43,
   "metadata": {},
   "outputs": [
    {
     "data": {
      "text/html": [
       "<div>\n",
       "<style>\n",
       "    .dataframe thead tr:only-child th {\n",
       "        text-align: right;\n",
       "    }\n",
       "\n",
       "    .dataframe thead th {\n",
       "        text-align: left;\n",
       "    }\n",
       "\n",
       "    .dataframe tbody tr th {\n",
       "        vertical-align: top;\n",
       "    }\n",
       "</style>\n",
       "<table border=\"1\" class=\"dataframe\">\n",
       "  <thead>\n",
       "    <tr style=\"text-align: right;\">\n",
       "      <th></th>\n",
       "      <th>class</th>\n",
       "      <th>total</th>\n",
       "      <th>survived</th>\n",
       "      <th>non_survived</th>\n",
       "      <th>survival_rate</th>\n",
       "    </tr>\n",
       "  </thead>\n",
       "  <tbody>\n",
       "    <tr>\n",
       "      <th>0</th>\n",
       "      <td>1</td>\n",
       "      <td>216</td>\n",
       "      <td>136</td>\n",
       "      <td>80</td>\n",
       "      <td>0.629630</td>\n",
       "    </tr>\n",
       "    <tr>\n",
       "      <th>1</th>\n",
       "      <td>2</td>\n",
       "      <td>184</td>\n",
       "      <td>87</td>\n",
       "      <td>97</td>\n",
       "      <td>0.472826</td>\n",
       "    </tr>\n",
       "    <tr>\n",
       "      <th>2</th>\n",
       "      <td>3</td>\n",
       "      <td>491</td>\n",
       "      <td>119</td>\n",
       "      <td>372</td>\n",
       "      <td>0.242363</td>\n",
       "    </tr>\n",
       "  </tbody>\n",
       "</table>\n",
       "</div>"
      ],
      "text/plain": [
       "   class  total  survived  non_survived  survival_rate\n",
       "0      1    216       136            80       0.629630\n",
       "1      2    184        87            97       0.472826\n",
       "2      3    491       119           372       0.242363"
      ]
     },
     "execution_count": 43,
     "metadata": {},
     "output_type": "execute_result"
    }
   ],
   "source": [
    "pclass['survival_rate'] = pclass.survived / pclass.total\n",
    "pclass"
   ]
  },
  {
   "cell_type": "markdown",
   "metadata": {},
   "source": [
    "Therefore, first class passengers got priority to be saved when facing disasters. The survival rate is highest among first class passengers while passengers from third ticket class suffer from much lower survival rate."
   ]
  },
  {
   "cell_type": "markdown",
   "metadata": {},
   "source": [
    "### 7. who will more likely to survive, families or sigletons? "
   ]
  },
  {
   "cell_type": "markdown",
   "metadata": {},
   "source": [
    "The last question we want to look at is whether sigletons are more likely to survive than people have families on board. First, we’re going to make a family size variable based on number of siblings/spouse(s) and number of children/parents."
   ]
  },
  {
   "cell_type": "code",
   "execution_count": 44,
   "metadata": {},
   "outputs": [],
   "source": [
    "sur.loc[:,'family'] = sur.loc[:,'Parch'] + sur.loc[:,'SibSp']\n",
    "nsur.loc[:,'family'] = nsur.loc[:,'Parch'] + nsur.loc[:,'SibSp']"
   ]
  },
  {
   "cell_type": "code",
   "execution_count": 45,
   "metadata": {},
   "outputs": [
    {
     "data": {
      "image/png": "[encoded data removed]",
      "text/plain": [
       "<matplotlib.figure.Figure at 0x117739400>"
      ]
     },
     "metadata": {},
     "output_type": "display_data"
    }
   ],
   "source": [
    "fig = plt.figure(figsize=(15, 5)) \n",
    "bins = np.linspace(0,10,11)\n",
    "\n",
    "plt.subplot(1, 2, 1)\n",
    "plt.hist((sur['family'], nsur['family']), bins, label = (\"survived\", \"not survived\"))\n",
    "plt.xlabel('Family members')\n",
    "plt.ylabel('Count')\n",
    "plt.xticks(range(11))\n",
    "plt.title('Singleton vs. Family')\n",
    "plt.legend(loc='upper right')\n",
    "\n",
    "bins2 = np.linspace(1,10,10)\n",
    "plt.subplot(1, 2, 2)\n",
    "plt.hist((sur[sur.family >= 1].family, nsur[nsur.family >= 1].family), bins2, label = (\"survived\", \"not survived\"))\n",
    "plt.xlabel('Family members')\n",
    "plt.ylabel('Count')\n",
    "plt.title('Family size')\n",
    "plt.xticks(range(1,11))\n",
    "plt.legend(loc='upper right')\n",
    "plt.show()"
   ]
  },
  {
   "cell_type": "markdown",
   "metadata": {
    "collapsed": true
   },
   "source": [
    "The chart on the left shows that the most common victims are sigletons. More than half sigletons are victims. The figure on the right examines people who has families a little closer: people who have small families, such as families with two to four family members are more likely to survive, while people who have large families, meaning more than five members are more likely to be victims. To summarize, there’s a survival penalty among singletons and large families, but a benefit for customers in small families."
   ]
  },
  {
   "cell_type": "markdown",
   "metadata": {},
   "source": [
    "## Conclusion"
   ]
  },
  {
   "cell_type": "markdown",
   "metadata": {},
   "source": [
    "This analysis is limited by the sample size of the data and the available information of each passagers. We have a total of 891 data points, but 177 of them do not have age information. Despite the data limitations, we gained some insights from analyzing this dataset:\n",
    "* Some groups of people were more likely to survive than others, such as women, children, and the upper-class.\n",
    "* There is a survival penalty among people who are in their mid twenties and early thirties.\n",
    "* Singletons and large families are more likely to be victims, while passengers in small families are more likely to survive."
   ]
  }
 ],
 "metadata": {
  "kernelspec": {
   "display_name": "Python 3",
   "language": "python",
   "name": "python3"
  },
  "language_info": {
   "codemirror_mode": {
    "name": "ipython",
    "version": 3
   },
   "file_extension": ".py",
   "mimetype": "text/x-python",
   "name": "python",
   "nbconvert_exporter": "python",
   "pygments_lexer": "ipython3",
   "version": "3.6.2"
  }
 },
 "nbformat": 4,
 "nbformat_minor": 2
}
